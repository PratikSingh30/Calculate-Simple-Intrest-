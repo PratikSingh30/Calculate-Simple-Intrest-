{
 "cells": [
  {
   "cell_type": "code",
   "execution_count": 9,
   "id": "464c9774",
   "metadata": {},
   "outputs": [
    {
     "name": "stdout",
     "output_type": "stream",
     "text": [
      "Enter the first number : 8\n",
      "Enter the second number : 5\n",
      "+ - * / // % **\n",
      "Chhose the above operator : $\n",
      "Incorrect operator\n"
     ]
    }
   ],
   "source": [
    "num1=int(input(\"Enter the first number : \"))\n",
    "num2=int(input(\"Enter the second number : \"))\n",
    "\n",
    "print(\"+\" , \"-\" , \"*\" , \"/\" , \"//\" , \"%\" , \"**\")\n",
    "operator=input(\"Chhose the above operator : \")\n",
    "\n",
    "if (operator==\"+\"):\n",
    "    print(\"Addition of two number is : \" , (num1+num2))\n",
    "    \n",
    "elif (operator==\"-\"):\n",
    "    print(\"Difference between two number is : \" , (num1-num2))\n",
    "    \n",
    "elif (operator==\"*\"):\n",
    "    print(\"Multiplication of two number is : \" , (num1*num2))\n",
    "    \n",
    "elif (operator==\"/\"):\n",
    "    print(\"Division of two number is : \" , (num1/num2))\n",
    "    \n",
    "elif (operator==\"//\"):\n",
    "    print(\"Floor division is : \" , (num1//num2))\n",
    "    \n",
    "elif (operator==\"%\"):\n",
    "    print(\"Modulus is : \" , (num1%num2))\n",
    "    \n",
    "elif (operator==\"**\"):\n",
    "    print(\"Exponential is : \" , (num1**num2))\n",
    "    \n",
    "else:\n",
    "    print(\"Incorrect operator\")\n",
    "    \n",
    "    \n"
   ]
  },
  {
   "cell_type": "code",
   "execution_count": null,
   "id": "cf35774f",
   "metadata": {},
   "outputs": [],
   "source": []
  }
 ],
 "metadata": {
  "kernelspec": {
   "display_name": "Python 3 (ipykernel)",
   "language": "python",
   "name": "python3"
  },
  "language_info": {
   "codemirror_mode": {
    "name": "ipython",
    "version": 3
   },
   "file_extension": ".py",
   "mimetype": "text/x-python",
   "name": "python",
   "nbconvert_exporter": "python",
   "pygments_lexer": "ipython3",
   "version": "3.9.12"
  }
 },
 "nbformat": 4,
 "nbformat_minor": 5
}
